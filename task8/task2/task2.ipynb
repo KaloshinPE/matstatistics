{
 "cells": [
  {
   "cell_type": "code",
   "execution_count": 1,
   "metadata": {
    "collapsed": true
   },
   "outputs": [],
   "source": [
    "import pandas as pd\n",
    "import numpy as np \n",
    "import matplotlib.pyplot as plt\n",
    "plt.rcParams['figure.figsize'] = (15, 10)"
   ]
  },
  {
   "cell_type": "code",
   "execution_count": 3,
   "metadata": {
    "collapsed": false
   },
   "outputs": [],
   "source": [
    "data = pd.read_csv('Regression.csv')"
   ]
  },
  {
   "cell_type": "code",
   "execution_count": 29,
   "metadata": {
    "collapsed": false
   },
   "outputs": [],
   "source": [
    "X = np.concatenate([np.array([20.6165]), np.array(data.values).reshape(1, -1)[0]], axis=0)"
   ]
  },
  {
   "cell_type": "markdown",
   "metadata": {},
   "source": [
    "Введем $Y_i$:\n",
    "\n",
    "$Y_0 = X_0 = \\beta_1 + \\varepsilon_0$\n",
    "\n",
    "$Y_i = X_i - X_{i-1} = \\beta_2 + \\varepsilon_i$, для для $i = 1\\dots n$ \n",
    "\n",
    "Рассмотрим линейную модель для $Y$\n",
    "\n",
    "где\n",
    "\n",
    " $Z = \\begin{pmatrix}\n",
    "  1 & 0\\\\\n",
    "  0 & 1\\\\\n",
    "  \\cdots & \\cdots\\\\\n",
    "  0 & 1\n",
    " \\end{pmatrix}, \\quad Z\\hat{\\beta}=Y$\n",
    "\n",
    "Получаем оценки\n",
    "\n",
    "$\\hat{\\beta} = {\\hat{\\beta_1} \\choose \\hat{\\beta_2}} = (Z^TZ)^{-1}Z^TY = {X_0 \\choose \\frac{X_n - X_1}{n}}$\n",
    "\n",
    "$\\hat{\\sigma^2} = \\frac{1}{n-1}|Y - Z\\hat{\\beta}| = \\frac{1}{n-1}\\sum_{i=1}^{n}(X_i - X_{i-1} - \\frac{X_n - X_1}{n})^2$\n",
    "\n",
    "$\\hat{\\sigma^2_t} = \\frac{\\hat{\\sigma^2}}{\\beta_2^2}$"
   ]
  },
  {
   "cell_type": "markdown",
   "metadata": {},
   "source": [
    "### Оценки:"
   ]
  },
  {
   "cell_type": "markdown",
   "metadata": {},
   "source": [
    "${\\hat{\\beta_1} \\choose \\hat{\\beta_2}} = (Z^TZ)^{-1}Z^TY = {X_0 \\choose \\frac{X_n - X_1}{n}}$"
   ]
  },
  {
   "cell_type": "code",
   "execution_count": 31,
   "metadata": {
    "collapsed": false
   },
   "outputs": [
    {
     "name": "stdout",
     "output_type": "stream",
     "text": [
      "beta1 = 20.6165  ||  beta2 = 12.0239843844\n"
     ]
    }
   ],
   "source": [
    "beta1, beta2 = X[0], (X[-1] - X[1])/float(len(X) - 1)\n",
    "print 'beta1 =', beta1, ' ||  beta2 =', beta2 "
   ]
  },
  {
   "cell_type": "markdown",
   "metadata": {},
   "source": [
    "$\\hat{\\sigma^2} = \\frac{1}{n-1}|Y - Z\\hat{\\beta}| = \\frac{1}{n-1}\\sum_{i=1}^{n}(X_i - X_{i-1} - \\frac{X_n - X_1}{n})^2$"
   ]
  },
  {
   "cell_type": "code",
   "execution_count": 33,
   "metadata": {
    "collapsed": false
   },
   "outputs": [
    {
     "name": "stdout",
     "output_type": "stream",
     "text": [
      "4.26325954594\n"
     ]
    }
   ],
   "source": [
    "n = len(X) - 1\n",
    "sigma = 1.0/(n-1)*np.sum(map(lambda i: (X[i] - X[i-1] - (X[-1] - X[1])/float(n))**2, range(1, len(X))))\n",
    "print sigma"
   ]
  },
  {
   "cell_type": "markdown",
   "metadata": {},
   "source": [
    "$\\hat{\\sigma^2_t} = \\frac{\\hat{\\sigma^2}}{\\beta_2^2}$"
   ]
  },
  {
   "cell_type": "code",
   "execution_count": 35,
   "metadata": {
    "collapsed": false
   },
   "outputs": [
    {
     "name": "stdout",
     "output_type": "stream",
     "text": [
      "0.0294879761116\n"
     ]
    }
   ],
   "source": [
    "print sigma/beta2**2"
   ]
  },
  {
   "cell_type": "markdown",
   "metadata": {},
   "source": [
    "Видим, что линейная модель дает достаточно точные оценки (относительная ошибка меньше 3%)."
   ]
  },
  {
   "cell_type": "code",
   "execution_count": null,
   "metadata": {
    "collapsed": true
   },
   "outputs": [],
   "source": []
  }
 ],
 "metadata": {
  "kernelspec": {
   "display_name": "Python 2",
   "language": "python",
   "name": "python2"
  },
  "language_info": {
   "codemirror_mode": {
    "name": "ipython",
    "version": 2
   },
   "file_extension": ".py",
   "mimetype": "text/x-python",
   "name": "python",
   "nbconvert_exporter": "python",
   "pygments_lexer": "ipython2",
   "version": "2.7.13"
  }
 },
 "nbformat": 4,
 "nbformat_minor": 2
}
