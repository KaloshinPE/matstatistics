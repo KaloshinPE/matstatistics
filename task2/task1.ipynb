{
 "cells": [
  {
   "cell_type": "code",
   "execution_count": 1,
   "metadata": {
    "collapsed": true
   },
   "outputs": [],
   "source": [
    "import numpy as np\n",
    "import scipy.stats as st"
   ]
  },
  {
   "cell_type": "code",
   "execution_count": 3,
   "metadata": {
    "collapsed": false
   },
   "outputs": [
    {
     "name": "stderr",
     "output_type": "stream",
     "text": [
      "/home/pavel/anaconda2/lib/python2.7/site-packages/scipy/integrate/quadpack.py:356: IntegrationWarning: The algorithm does not converge.  Roundoff error is detected\n",
      "  in the extrapolation table.  It is assumed that the requested tolerance\n",
      "  cannot be achieved, and that the returned result (if full_output = 1) is \n",
      "  the best which can be obtained.\n",
      "  warnings.warn(msg, IntegrationWarning)\n",
      "/home/pavel/anaconda2/lib/python2.7/site-packages/ipykernel/__main__.py:24: RuntimeWarning: overflow encountered in exp\n",
      "/home/pavel/anaconda2/lib/python2.7/site-packages/ipykernel/__main__.py:24: RuntimeWarning: invalid value encountered in double_scalars\n",
      "/home/pavel/anaconda2/lib/python2.7/site-packages/scipy/integrate/quadpack.py:356: IntegrationWarning: The occurrence of roundoff error is detected, which prevents \n",
      "  the requested tolerance from being achieved.  The error may be \n",
      "  underestimated.\n",
      "  warnings.warn(msg, IntegrationWarning)\n",
      "/home/pavel/anaconda2/lib/python2.7/site-packages/scipy/integrate/quadpack.py:356: IntegrationWarning: The maximum number of subdivisions (50) has been achieved.\n",
      "  If increasing the limit yields no improvement it is advised to analyze \n",
      "  the integrand in order to determine the difficulties.  If the position of a \n",
      "  local difficulty can be determined (singularity, discontinuity) one will \n",
      "  probably gain from splitting up the interval and calling the integrator \n",
      "  on the subranges.  Perhaps a special-purpose integrator should be used.\n",
      "  warnings.warn(msg, IntegrationWarning)\n"
     ]
    }
   ],
   "source": [
    "N=1000\n",
    "\n",
    "names = ['normal', 'gamma', 'uniform', 'poiss', 'bin', 'geom', 'beta', 'paret', 'cauchy', 'our dist1', 'our dist2']\n",
    "distributions = []\n",
    "p = 0.44\n",
    "t1 = 3\n",
    "t2 = 4\n",
    "distributions.append(np.random.normal(t1, t2, size=N))\n",
    "distributions.append(np.random.gamma(t1, t2, size=N))\n",
    "distributions.append(t1*np.random.uniform(size=N))\n",
    "distributions.append(np.random.poisson(t1, size=N))\n",
    "distributions.append(np.random.binomial(t1, p, size=N))\n",
    "distributions.append(np.random.geometric(p, size=N))\n",
    "distributions.append(np.random.beta(t1, t2, size=N))\n",
    "distributions.append(np.random.pareto(t1, size=N))\n",
    "distributions.append(np.random.standard_cauchy(size=N))\n",
    "class our_dist1(st.rv_continuous):\n",
    "    def _pdf(self, x, loc, scale):\n",
    "        return 2.0*loc**2/x**3*np.int64(x>loc)\n",
    "distributions.append(our_dist1())\n",
    "class our_dist2(st.rv_continuous):\n",
    "    def _pdf(self, x, loc, scale):\n",
    "        return 1.0/loc*np.exp((loc-x)/scale)*np.int64(x>=scale)\n",
    "distributions.append(our_dist2())"
   ]
  },
  {
   "cell_type": "markdown",
   "metadata": {
    "collapsed": false
   },
   "source": [
    "<h2>Метод моментов</h2>"
   ]
  },
  {
   "cell_type": "code",
   "execution_count": null,
   "metadata": {
    "collapsed": true
   },
   "outputs": [],
   "source": []
  },
  {
   "cell_type": "markdown",
   "metadata": {},
   "source": [
    "<h2>Метод максимального правдоподобия</h2>"
   ]
  },
  {
   "cell_type": "code",
   "execution_count": null,
   "metadata": {
    "collapsed": true
   },
   "outputs": [],
   "source": [
    "density =  "
   ]
  }
 ],
 "metadata": {
  "kernelspec": {
   "display_name": "Python 2",
   "language": "python",
   "name": "python2"
  },
  "language_info": {
   "codemirror_mode": {
    "name": "ipython",
    "version": 2
   },
   "file_extension": ".py",
   "mimetype": "text/x-python",
   "name": "python",
   "nbconvert_exporter": "python",
   "pygments_lexer": "ipython2",
   "version": "2.7.13"
  }
 },
 "nbformat": 4,
 "nbformat_minor": 2
}
