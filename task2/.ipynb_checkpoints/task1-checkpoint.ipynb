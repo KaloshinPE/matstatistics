{
 "cells": [
  {
   "cell_type": "code",
   "execution_count": 1,
   "metadata": {
    "collapsed": true
   },
   "outputs": [],
   "source": [
    "import numpy as np"
   ]
  },
  {
   "cell_type": "code",
   "execution_count": 3,
   "metadata": {
    "collapsed": false
   },
   "outputs": [],
   "source": [
    "N=1000\n",
    "\n",
    "names = ['normal', 'gamma', 'uniform', 'poiss', 'bin', 'geom', 'beta', 'paret', 'cauchy']\n",
    "distributions = []\n",
    "p = 0.44, t1 = 3, t2 = 4\n",
    "distributions.append(np.random.normal(t1, t2, size=N))\n",
    "distributions.append(np.random.gamma(t1, t2, size=N))\n",
    "distributions.append(t1*np.random.uniform(size=N))\n",
    "distributions.append(np.random.poisson(t1, size=N))\n",
    "distributions.append(np.random.binomial(t1, p, size=N))\n",
    "distributions.append(np.random.geometric(p, size=N))\n",
    "distributions.append(np.random.beta(t1, t2, size=N))\n",
    "distributions.append(np.random.pareto(t1, size=N))\n",
    "distributions.append(np.random.standard_cauchy(size=N))"
   ]
  },
  {
   "cell_type": "code",
   "execution_count": null,
   "metadata": {
    "collapsed": true
   },
   "outputs": [],
   "source": []
  }
 ],
 "metadata": {
  "kernelspec": {
   "display_name": "Python 2",
   "language": "python",
   "name": "python2"
  },
  "language_info": {
   "codemirror_mode": {
    "name": "ipython",
    "version": 2
   },
   "file_extension": ".py",
   "mimetype": "text/x-python",
   "name": "python",
   "nbconvert_exporter": "python",
   "pygments_lexer": "ipython2",
   "version": "2.7.13"
  }
 },
 "nbformat": 4,
 "nbformat_minor": 2
}
