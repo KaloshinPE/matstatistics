{
 "cells": [
  {
   "cell_type": "code",
   "execution_count": 1,
   "metadata": {
    "collapsed": true
   },
   "outputs": [],
   "source": [
    "import numpy as np\n",
    "import matplotlib.pyplot as plt\n",
    "from scipy.misc import factorial"
   ]
  },
  {
   "cell_type": "code",
   "execution_count": 2,
   "metadata": {
    "collapsed": true
   },
   "outputs": [],
   "source": [
    "N = 10**4\n",
    "theta = 1"
   ]
  },
  {
   "cell_type": "markdown",
   "metadata": {},
   "source": [
    "Генерируем выборку, задаем функцию оценки."
   ]
  },
  {
   "cell_type": "code",
   "execution_count": 3,
   "metadata": {
    "collapsed": true
   },
   "outputs": [],
   "source": [
    "sample = theta*np.random.exponential(theta, N)\n",
    "\n",
    "def estimation(n, k):\n",
    "    return (float(factorial(k))/(sum(map(lambda x: x**k, sample[:n]))/float(n)))**(1.0/k)"
   ]
  },
  {
   "cell_type": "markdown",
   "metadata": {},
   "source": [
    "Считаем оценки для разных n и k в диапазоне от 1 до 10. Рисуем график."
   ]
  },
  {
   "cell_type": "code",
   "execution_count": 4,
   "metadata": {
    "collapsed": false
   },
   "outputs": [
    {
     "data": {
      "image/png": "[encoded data removed]",
      "text/plain": [
       "<matplotlib.figure.Figure at 0x81df438>"
      ]
     },
     "metadata": {},
     "output_type": "display_data"
    }
   ],
   "source": [
    "k_row = range(11)[1:]\n",
    "est_rows = []\n",
    "est_labels = []\n",
    "for k in k_row:\n",
    "    new_row = []\n",
    "    for n in range(N)[1:]:\n",
    "         new_row.append(np.abs(estimation(n, k) - theta))\n",
    "    est_rows.append(new_row)\n",
    "    est_labels.append(str(k))\n",
    "for i in range(len(k_row)):\n",
    "    plt.plot(range(N)[1:], est_rows[i], label=est_labels[i])\n",
    "plt.legend()\n",
    "plt.show()"
   ]
  },
  {
   "cell_type": "markdown",
   "metadata": {},
   "source": [
    "Детализация этого графика:"
   ]
  },
  {
   "cell_type": "markdown",
   "metadata": {},
   "source": [
    "<img src=\"task2/1/figure_1.png\">\n",
    "<img src=\"task2/1/figure_1-1.png\">\n",
    "<img src=\"task2/1/figure_1-2.png\">\n",
    "<img src=\"task2/1/figure_1-3.png\">\n",
    "<img src=\"task2/1/figure_1-4.png\">\n",
    "<img src=\"task2/1/figure_1-5.png\">\n",
    "<img src=\"task2/1/figure_1-6.png\">"
   ]
  },
  {
   "cell_type": "markdown",
   "metadata": {},
   "source": [
    "Та же процедура для k, принимающих значения квадратов чисел от 1 до 10, дает следующий график:"
   ]
  },
  {
   "cell_type": "markdown",
   "metadata": {},
   "source": [
    "<img src=\"task2/2/figure_1.png\">\n",
    "<img src=\"task2/2/figure_1-1.png\">\n",
    "<img src=\"task2/2/figure_1-2.png\">\n",
    "<img src=\"task2/2/figure_1-3.png\">"
   ]
  },
  {
   "cell_type": "code",
   "execution_count": null,
   "metadata": {
    "collapsed": true
   },
   "outputs": [],
   "source": []
  }
 ],
 "metadata": {
  "kernelspec": {
   "display_name": "Python 2",
   "language": "python",
   "name": "python2"
  },
  "language_info": {
   "codemirror_mode": {
    "name": "ipython",
    "version": 2
   },
   "file_extension": ".py",
   "mimetype": "text/x-python",
   "name": "python",
   "nbconvert_exporter": "python",
   "pygments_lexer": "ipython2",
   "version": "2.7.13"
  }
 },
 "nbformat": 4,
 "nbformat_minor": 2
}
